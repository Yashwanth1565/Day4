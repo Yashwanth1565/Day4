{
  "nbformat": 4,
  "nbformat_minor": 0,
  "metadata": {
    "colab": {
      "provenance": []
    },
    "kernelspec": {
      "name": "python3",
      "display_name": "Python 3"
    },
    "language_info": {
      "name": "python"
    }
  },
  "cells": [
    {
      "cell_type": "code",
      "source": [
        "#Q.\"\"\"Q. Write a Python program to calculate the sum of all even numbers between 1 and a given positive integer n\n"
      ],
      "metadata": {
        "id": "0nAAK-gs3IH3"
      },
      "execution_count": null,
      "outputs": []
    },
    {
      "cell_type": "code",
      "source": [
        "a=int(input(\"Enter Starting number: \"))\n",
        "n=int(input(\"Enter last number: \"))\n",
        "x = n * (n+1)\n",
        "print(\"The sum of first\", n ,\"even numbers is: \",x)\n"
      ],
      "metadata": {
        "colab": {
          "base_uri": "https://localhost:8080/"
        },
        "id": "Aw5s7Pa91AtA",
        "outputId": "1d642d7a-b98b-40a2-a460-fca91b6da57b"
      },
      "execution_count": 5,
      "outputs": [
        {
          "output_type": "stream",
          "name": "stdout",
          "text": [
            "Enter Starting number: 0\n",
            "Enter last number: 5\n",
            "The sum of first 5 even numbers is:  30\n"
          ]
        }
      ]
    },
    {
      "cell_type": "code",
      "source": [],
      "metadata": {
        "id": "ZoJb8X2T1k_Y"
      },
      "execution_count": null,
      "outputs": []
    }
  ]
}